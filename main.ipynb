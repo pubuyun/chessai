{
 "cells": [
  {
   "cell_type": "markdown",
   "metadata": {},
   "source": [
    "## Chess AI\n",
    "construct $f(p)$ as a 3 layer deep 2048 units wide artificial neural network\\\n",
    "for each move, $f(p) = \\max\\limits_{p\\rightarrow p_0} - f(p_0)$\\"
   ]
  },
  {
   "cell_type": "code",
   "execution_count": 2,
   "metadata": {},
   "outputs": [],
   "source": [
    "import torch\n",
    "import torch.nn as nn\n",
    "import torch.optim as optim\n",
    "from torch.utils.data import DataLoader, Dataset"
   ]
  },
  {
   "cell_type": "markdown",
   "metadata": {},
   "source": [
    "### Prepare dataset\n",
    "1. Players will choose an optimal or near-optimal move. This means that for two position in succession \n",
    "$p \\rightarrow q$ observed in the game, we will have $f(p) = -f(q)$\n",
    "2. For the same reason above, going from $p$ not to $q$, but to a random position $r$, we must have $f(r) > f(q)$ because the random position is better for the next player and worse for the player that made the move."
   ]
  },
  {
   "cell_type": "code",
   "execution_count": null,
   "metadata": {},
   "outputs": [],
   "source": []
  },
  {
   "cell_type": "code",
   "execution_count": null,
   "metadata": {},
   "outputs": [],
   "source": [
    "# 自定义数据集\n",
    "class ChessDataset(Dataset):\n",
    "    def __init__(self, data):\n",
    "        self.data = data\n",
    "\n",
    "    def __len__(self):\n",
    "        return len(self.data)\n",
    "\n",
    "    def __getitem__(self, idx):\n",
    "        p, q, r = self.data[idx]\n",
    "        return torch.tensor(p, dtype=torch.float32), \\\n",
    "               torch.tensor(q, dtype=torch.float32), \\\n",
    "               torch.tensor(r, dtype=torch.float32)"
   ]
  },
  {
   "cell_type": "code",
   "execution_count": null,
   "metadata": {},
   "outputs": [],
   "source": [
    "class ChessValueNetwork(nn.Module):\n",
    "    def __init__(self):\n",
    "        super(ChessValueNetwork, self).__init__()\n",
    "        self.conv = nn.Sequential(\n",
    "            nn.Conv2d(12, 32, kernel_size=3, padding=1),  # 输入：8x8x12\n",
    "            nn.ReLU(),\n",
    "            nn.Conv2d(32, 64, kernel_size=3, padding=1),\n",
    "            nn.ReLU(),\n",
    "            nn.MaxPool2d(kernel_size=2)  # 输出：4x4x64\n",
    "        )\n",
    "        self.fc = nn.Sequential(\n",
    "            nn.Linear(4 * 4 * 64, 128),\n",
    "            nn.ReLU(),\n",
    "            nn.Linear(128, 1),  # 输出标量\n",
    "            nn.Tanh()  # 限制在 [-1, 1]\n",
    "        )\n",
    "\n",
    "    def forward(self, x):\n",
    "        x = self.conv(x)\n",
    "        x = x.view(x.size(0), -1)  # 展平成 [Batch, Features]\n",
    "        x = self.fc(x)\n",
    "        return x\n",
    "    \n",
    "# 目标函数定义\n",
    "def objective_function(model, p, q, r, kappa=10.0):\n",
    "    f_p = model(p)\n",
    "    f_q = model(q)\n",
    "    f_r = model(r)\n",
    "\n",
    "    # 第一项：优选原则\n",
    "    loss_preference = -torch.log(torch.sigmoid(f_q - f_r))\n",
    "\n",
    "    # 第二和第三项：零和原则\n",
    "    loss_zero_sum_1 = -kappa * torch.log(f_p + f_q + 1e-8)\n",
    "    loss_zero_sum_2 = -kappa * torch.log(-f_q - f_p + 1e-8)\n",
    "\n",
    "    return torch.mean(loss_preference + loss_zero_sum_1 + loss_zero_sum_2)\n",
    "\n",
    "model = ChessValueNetwork()"
   ]
  },
  {
   "cell_type": "code",
   "execution_count": null,
   "metadata": {},
   "outputs": [],
   "source": [
    "EPOCHS = 10\n",
    "KAPPA = 10.0\n",
    "optimizer = optim.Adam(model.parameters(), lr=0.001)\n",
    "for epoch in range(EPOCHS):\n",
    "    total_loss = 0\n",
    "    for p, q, r in dataloader:\n",
    "        optimizer.zero_grad()\n",
    "        loss = objective_function(model, p, q, r, KAPPA)\n",
    "        loss.backward()\n",
    "        optimizer.step()\n",
    "        total_loss += loss.item()\n",
    "\n",
    "    print(f\"Epoch {epoch + 1}/{EPOCHS}, Loss: {total_loss:.4f}\")"
   ]
  }
 ],
 "metadata": {
  "kernelspec": {
   "display_name": "Python 3",
   "language": "python",
   "name": "python3"
  },
  "language_info": {
   "codemirror_mode": {
    "name": "ipython",
    "version": 3
   },
   "file_extension": ".py",
   "mimetype": "text/x-python",
   "name": "python",
   "nbconvert_exporter": "python",
   "pygments_lexer": "ipython3",
   "version": "3.11.9"
  }
 },
 "nbformat": 4,
 "nbformat_minor": 2
}
